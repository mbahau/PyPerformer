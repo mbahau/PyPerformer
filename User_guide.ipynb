{
 "cells": [
  {
   "cell_type": "markdown",
   "metadata": {},
   "source": [
    "<h1>User Guide to use the functions"
   ]
  },
  {
   "cell_type": "markdown",
   "metadata": {},
   "source": [
    "<h2>=== Memory Profiler ==="
   ]
  },
  {
   "cell_type": "markdown",
   "metadata": {},
   "source": [
    "<h3>Runtime profiler</h3> \n",
    "    -Track the memory consumption of the code in real time and identify the exact line consuming the most memory"
   ]
  },
  {
   "cell_type": "code",
   "execution_count": 2,
   "metadata": {},
   "outputs": [
    {
     "name": "stdout",
     "output_type": "stream",
     "text": [
      "Memory profiling started...\n",
      "--- Resource Info ---\n",
      "    Memory Used: 141.59 MB       | 0.27%\n",
      "    Memory Increment: 141.59 MB     | 0.00%\n",
      "    Max Memory Used: 1103.04 MB       | 2.07%\n",
      "    Memory Available: 46400.00 MB     | 87.19%\n",
      "Line: 100, Function: stop, File: /mnt/c/Users/md.bahauddin/OneDrive - o9 Solutions/o9 Projects/DP_PMM/PyPerformer/memory_profiler/runtime_profiler.py\n",
      "Code: monitor_thread.join()\n",
      "---------------------------------------------\n",
      "\n",
      "Memory profiling stopped.\n"
     ]
    }
   ],
   "source": [
    "import time\n",
    "# Initiaize runtime profiler\n",
    "from PyPerformer.memory_profiler import runtime_profiler as rp\n",
    "# Start runtime profiler \n",
    "rp.start(2)\n",
    "while True:\n",
    "    time.sleep(1)\n",
    "    break\n",
    "rp.stop()\n"
   ]
  },
  {
   "cell_type": "markdown",
   "metadata": {},
   "source": [
    "<h2>=== Profiler ==="
   ]
  },
  {
   "cell_type": "markdown",
   "metadata": {},
   "source": [
    "<h3>cprofiler</h3> - Use cProfiler to get logs of the time taken by the code."
   ]
  },
  {
   "cell_type": "code",
   "execution_count": 1,
   "metadata": {},
   "outputs": [
    {
     "name": "stdout",
     "output_type": "stream",
     "text": [
      "cprofile enabled. Tracking the run time ...\n",
      "Hello World, how are you Amir?\n",
      "Running func1\n",
      "Running func2\n",
      "         90 function calls in 3.009 seconds\n",
      "\n",
      "   Ordered by: cumulative time\n",
      "   List reduced from 22 to 4 due to restriction <4>\n",
      "\n",
      "   ncalls  tottime  percall  cumtime  percall filename:lineno(function)\n",
      "        1    0.000    0.000    3.009    3.009 1072819138.py:9(main)\n",
      "        2    3.008    1.504    3.008    1.504 {built-in method time.sleep}\n",
      "        1    0.000    0.000    2.005    2.005 1072819138.py:10(func2)\n",
      "        1    0.000    0.000    1.004    1.004 1072819138.py:6(func1)\n",
      "\n",
      "\n",
      "cprofile captured the benchmark.\n"
     ]
    }
   ],
   "source": [
    "# Initiaize c\n",
    "# profiler\n",
    "import time\n",
    "from PyPerformer.profiler import cprofiler as cp\n",
    "\n",
    "def func1():\n",
    "    print(\"Running func1\")\n",
    "    time.sleep(1)\n",
    "def main(name):\n",
    "    def func2():\n",
    "        print(\"Running func2\")\n",
    "        time.sleep(2)\n",
    "    print(f\"Hello World, how are you {name}?\")\n",
    "    func1()\n",
    "    func2()\n",
    "    return None\n",
    "\n",
    "main = cp.start(top=4)(main)\n",
    "main('Amir')"
   ]
  },
  {
   "cell_type": "markdown",
   "metadata": {},
   "source": [
    "<h2>=== Instant State Saver ==="
   ]
  },
  {
   "cell_type": "markdown",
   "metadata": {},
   "source": [
    "Save the instance of the python program. Useful for debugging or development in a seperate python instance."
   ]
  },
  {
   "cell_type": "code",
   "execution_count": 13,
   "metadata": {},
   "outputs": [
    {
     "name": "stdout",
     "output_type": "stream",
     "text": [
      "Hello World\n",
      "Dumping the objects ...\n",
      "Successfully Dumped.\n",
      "Following objects are saved: dict_keys(['df', 'string'])\n",
      "Directory : .pyperformer/saved_instance/\n",
      "Instance saved.\n",
      "Use load_state() to load the state from the checkpoint\n"
     ]
    }
   ],
   "source": [
    "import pandas as pd \n",
    "string = \"Hello World\"\n",
    "df = pd.DataFrame({'A': [1, 2, 3], 'B': [4, 5, 6]})\n",
    "\n",
    "# import the library\n",
    "from PyPerformer.instant_state_saver import save_state\n",
    "\n",
    "def main(df,string):\n",
    "    print(\"Hello World\")\n",
    "    \n",
    "    # Save the state of the variables\n",
    "    save_state(locals())\n",
    "    \n",
    "    return None\n",
    "\n",
    "main(df,string)"
   ]
  },
  {
   "cell_type": "markdown",
   "metadata": {},
   "source": [
    "Load the saved instant to continue the debugging/further development..."
   ]
  },
  {
   "cell_type": "code",
   "execution_count": 4,
   "metadata": {},
   "outputs": [
    {
     "name": "stdout",
     "output_type": "stream",
     "text": [
      "State loaded.\n",
      "Following objects are loaded: dict_keys(['df', 'string'])\n",
      "Please continue the development.\n",
      "   A  B\n",
      "0  1  4\n",
      "Hello World\n"
     ]
    }
   ],
   "source": [
    "# import libraries \n",
    "from PyPerformer.instant_state_saver import load_state\n",
    "\n",
    "# Load the state of the variables\n",
    "load_state(locals()) # Pass the globals() if you want to load the global variables\n",
    "\n",
    "print(df.head(1))\n",
    "print(string)\n"
   ]
  }
 ],
 "metadata": {
  "kernelspec": {
   "display_name": "PMM_Oct24",
   "language": "python",
   "name": "python3"
  },
  "language_info": {
   "codemirror_mode": {
    "name": "ipython",
    "version": 3
   },
   "file_extension": ".py",
   "mimetype": "text/x-python",
   "name": "python",
   "nbconvert_exporter": "python",
   "pygments_lexer": "ipython3",
   "version": "3.10.5"
  }
 },
 "nbformat": 4,
 "nbformat_minor": 2
}
